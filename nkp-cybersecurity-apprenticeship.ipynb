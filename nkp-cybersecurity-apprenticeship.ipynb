{
 "cells": [
  {
   "cell_type": "markdown",
   "id": "d4ee9e4b",
   "metadata": {},
   "source": [
    "***\n",
    "< [Home](https://github.com/SeanOhAileasa) | [README](https://github.com/SeanOhAileasa/nkp-cybersecurity-apprenticeship/blob/main/README.md) >\n",
    "\n",
    "## Cybersecurity Apprenticeship (LMETB - AMTCE - Oiliuna)\n",
    "###### Topic: ``CompTIA Network+``\n",
    "***"
   ]
  },
  {
   "cell_type": "markdown",
   "id": "b82b07fb",
   "metadata": {},
   "source": [
    "Course material for the ``CompTIA Network+`` module of the ``ICT Associate Apprenticeship (Cybersecurity)`` programme."
   ]
  },
  {
   "cell_type": "markdown",
   "id": "e7228f57",
   "metadata": {},
   "source": [
    "<a id=\"top\"></a>\n",
    "***\n",
    "## Table of Contents\n",
    "***"
   ]
  },
  {
   "cell_type": "markdown",
   "id": "c0ad05fe",
   "metadata": {},
   "source": [
    "### Semester 1 Schedule 30th May 2022 [ [Schedule Update](#newSchedule) ]<br/><br/>"
   ]
  },
  {
   "cell_type": "code",
   "execution_count": 1,
   "id": "8ce10fbd",
   "metadata": {},
   "outputs": [
    {
     "data": {
      "text/html": [
       "\n",
       "        <iframe\n",
       "            width=\"1000\"\n",
       "            height=\"700\"\n",
       "            src=\"./rc/Semester-1-Schedule-30th-May-2022.pdf\"\n",
       "            frameborder=\"0\"\n",
       "            allowfullscreen\n",
       "            \n",
       "        ></iframe>\n",
       "        "
      ],
      "text/plain": [
       "<IPython.lib.display.IFrame at 0x1a5e0adf190>"
      ]
     },
     "execution_count": 1,
     "metadata": {},
     "output_type": "execute_result"
    }
   ],
   "source": [
    "from IPython.display import IFrame, display\n",
    "IFrame(\"./rc/Semester-1-Schedule-30th-May-2022.pdf\",width=1000,height=700)"
   ]
  },
  {
   "cell_type": "markdown",
   "id": "730af0cd",
   "metadata": {},
   "source": [
    "<a id=\"newSchedule\"></a>\n",
    "### Semester 3 Schedule 11th July 2022\n",
    "###### [Holiday Leave (per training provider): Monday 11th July 2022 - Friday 15th July 2022]  <br/><br/>"
   ]
  },
  {
   "cell_type": "markdown",
   "id": "1f980928",
   "metadata": {},
   "source": [
    "Changes to original schedule:\n",
    "\n",
    "> The **Annual Leave** period (one week) will commence on 11th July (ending 15th July).\n",
    "\n",
    "> Semester 3 period re. \"**Network+**\" will commence on **18th July** (ending week of 30th October 2022). "
   ]
  },
  {
   "cell_type": "markdown",
   "id": "4f052411",
   "metadata": {},
   "source": [
    "<hr width=50%;>"
   ]
  },
  {
   "cell_type": "markdown",
   "id": "40ec1d36",
   "metadata": {},
   "source": [
    "### [Monday 18th July 2022](#20220718) <br/><br/>\n",
    "\n",
    "- [Introduction to Networking](#202207181) <br/><br/>\n",
    "- [OSI Model](#202207182) <br/><br/>\n",
    "- [Introduction to Networking](#202207183) <br/><br/>\n",
    "- [Infrastructure and Documentation](#202207184) <br/><br/>\n",
    "- [OSI and TCP-IP Models](#202207185) \n",
    "<hr width=50%;>"
   ]
  },
  {
   "cell_type": "markdown",
   "id": "bf2b95e2",
   "metadata": {},
   "source": [
    "***\n",
    "## END"
   ]
  },
  {
   "cell_type": "markdown",
   "id": "2656d962",
   "metadata": {},
   "source": [
    "< [Table of Contents](#top) | [References](#references) >\n",
    "<a id=\"20220718\"></a>\n",
    "***\n",
    "### Monday 18th July 2022\n",
    "***"
   ]
  },
  {
   "cell_type": "markdown",
   "id": "4bda7488",
   "metadata": {},
   "source": [
    "< [Table of Contents](#top) | [References](#references) >\n",
    "<a id=\"202207181\"></a>\n",
    "***\n",
    "###### Introduction to Networking\n",
    "###### [Network Models - Peer-to-Peer Network Model - Client-Server Network Model - Client-Server Applications - Network Services and Their Protocols - Network Hardware - LANs and Their Hardware]\n",
    "***"
   ]
  },
  {
   "cell_type": "code",
   "execution_count": 2,
   "id": "acf9f285",
   "metadata": {},
   "outputs": [
    {
     "data": {
      "text/html": [
       "\n",
       "        <iframe\n",
       "            width=\"900\"\n",
       "            height=\"530\"\n",
       "            src=\"./rc/Netplus9e_PPT_Mod 01_4to20.pdf\"\n",
       "            frameborder=\"0\"\n",
       "            allowfullscreen\n",
       "            \n",
       "        ></iframe>\n",
       "        "
      ],
      "text/plain": [
       "<IPython.lib.display.IFrame at 0x1a5e0ad30d0>"
      ]
     },
     "execution_count": 2,
     "metadata": {},
     "output_type": "execute_result"
    }
   ],
   "source": [
    "from IPython.display import IFrame, display\n",
    "IFrame(\"./rc/Netplus9e_PPT_Mod 01_4to20.pdf\",width=900,height=530)"
   ]
  },
  {
   "cell_type": "markdown",
   "id": "952f76f1",
   "metadata": {},
   "source": [
    "< [Table of Contents](#top) | [References](#references) >\n",
    "<a id=\"202207182\"></a>\n",
    "***\n",
    "###### OSI Model\n",
    "***"
   ]
  },
  {
   "cell_type": "markdown",
   "id": "2b7925a1",
   "metadata": {},
   "source": [
    "> Identify the attributes and characteristics of the seven layer Open Systems Interconnection Model (OSI)."
   ]
  },
  {
   "cell_type": "markdown",
   "id": "26b29435",
   "metadata": {},
   "source": [
    "[ [OSI Model](https://www.itpro.tv/courses/comptia/comptia-network-n10008/) ]"
   ]
  },
  {
   "cell_type": "markdown",
   "id": "3cb33233",
   "metadata": {},
   "source": [
    "< [Table of Contents](#top) | [References](#references) >\n",
    "<a id=\"202207183\"></a>\n",
    "***\n",
    "###### Introduction to Networking\n",
    "###### [MANs and WANs - The Seven-Layer OSI Model - Layer 7 to Layer 1 - PDU - Summary of How the Layers Work Together - Safety Procedures and Policies - Emergency Procedures - Troubleshooting Network Problems - Summary]\n",
    "***"
   ]
  },
  {
   "cell_type": "code",
   "execution_count": 3,
   "id": "6e10bdf5",
   "metadata": {},
   "outputs": [
    {
     "data": {
      "text/html": [
       "\n",
       "        <iframe\n",
       "            width=\"900\"\n",
       "            height=\"530\"\n",
       "            src=\"./rc/Netplus9e_PPT_Mod 01_21to44.pdf\"\n",
       "            frameborder=\"0\"\n",
       "            allowfullscreen\n",
       "            \n",
       "        ></iframe>\n",
       "        "
      ],
      "text/plain": [
       "<IPython.lib.display.IFrame at 0x1a5e0ad39d0>"
      ]
     },
     "execution_count": 3,
     "metadata": {},
     "output_type": "execute_result"
    }
   ],
   "source": [
    "from IPython.display import IFrame, display\n",
    "IFrame(\"./rc/Netplus9e_PPT_Mod 01_21to44.pdf\",width=900,height=530)"
   ]
  },
  {
   "cell_type": "markdown",
   "id": "97e49ee7",
   "metadata": {},
   "source": [
    "< [Table of Contents](#top) | [References](#references) >\n",
    "<a id=\"202207184\"></a>\n",
    "***\n",
    "###### Infrastructure and Documentation\n",
    "###### [Components of Structured Cabling - From the Demarc to a Workstation (11 of 11) - Cabling (5 of 5)]\n",
    "***"
   ]
  },
  {
   "cell_type": "code",
   "execution_count": 4,
   "id": "0c84a239",
   "metadata": {},
   "outputs": [
    {
     "data": {
      "text/html": [
       "\n",
       "        <iframe\n",
       "            width=\"900\"\n",
       "            height=\"530\"\n",
       "            src=\"./rc/Netplus9e_PPT_Mod 02_3to19.pdf\"\n",
       "            frameborder=\"0\"\n",
       "            allowfullscreen\n",
       "            \n",
       "        ></iframe>\n",
       "        "
      ],
      "text/plain": [
       "<IPython.lib.display.IFrame at 0x1a5e0adf8b0>"
      ]
     },
     "execution_count": 4,
     "metadata": {},
     "output_type": "execute_result"
    }
   ],
   "source": [
    "from IPython.display import IFrame, display\n",
    "IFrame(\"./rc/Netplus9e_PPT_Mod 02_3to19.pdf\",width=900,height=530)"
   ]
  },
  {
   "cell_type": "markdown",
   "id": "06d0048b",
   "metadata": {},
   "source": [
    "< [Table of Contents](#top) | [References](#references) >\n",
    "<a id=\"202207185\"></a>\n",
    "***\n",
    "###### OSI and TCP-IP Models\n",
    "***"
   ]
  },
  {
   "cell_type": "markdown",
   "id": "85a3aabd",
   "metadata": {},
   "source": [
    "> Identify the functionality and characteristic of TCP/IP model. The viewer will also compare and contrast the Open Systems Interconnection Model with the TCP/IP model."
   ]
  },
  {
   "cell_type": "markdown",
   "id": "39f468a7",
   "metadata": {},
   "source": [
    "[ [OSI and TCP-IP Models](https://www.itpro.tv/courses/comptia/comptia-network-n10008/) ]"
   ]
  },
  {
   "cell_type": "markdown",
   "id": "2cc20932",
   "metadata": {},
   "source": [
    "***\n",
    "## END"
   ]
  },
  {
   "cell_type": "markdown",
   "id": "e0e42d51",
   "metadata": {},
   "source": [
    "< [Table of Contents](#top) >\n",
    "<a id=\"references\"></a>\n",
    "***\n",
    "## References\n",
    "***"
   ]
  },
  {
   "cell_type": "markdown",
   "id": "ff68247c",
   "metadata": {},
   "source": [
    "Oiliuna, \"Cybersecurity Apprenticeship - ICT Associate Professional (ICTAP),\" LMETB / AMTCE, 18th July - 30th October 2022."
   ]
  },
  {
   "cell_type": "markdown",
   "id": "b33c372a",
   "metadata": {},
   "source": [
    "***\n",
    "## END"
   ]
  },
  {
   "cell_type": "markdown",
   "id": "e5961b4d",
   "metadata": {},
   "source": [
    "< [Table of Contents](#top) | [References](#references) >\n",
    "<a id=\"appendix\"></a>\n",
    "***\n",
    "## Appendix\n",
    "***"
   ]
  },
  {
   "cell_type": "markdown",
   "id": "00d82a82",
   "metadata": {},
   "source": [
    "***\n",
    "## END"
   ]
  },
  {
   "cell_type": "code",
   "execution_count": 5,
   "id": "706756a2",
   "metadata": {},
   "outputs": [
    {
     "name": "stderr",
     "output_type": "stream",
     "text": [
      "C:\\Users\\SeanOhAileasa\\AppData\\Local\\Temp\\ipykernel_19092\\1322614208.py:1: DeprecationWarning: Importing display from IPython.core.display is deprecated since IPython 7.14, please import from IPython display\n",
      "  from IPython.core.display import display,HTML\n"
     ]
    },
    {
     "data": {
      "text/html": [
       "<style>.container { width:100% !important; }</style>"
      ],
      "text/plain": [
       "<IPython.core.display.HTML object>"
      ]
     },
     "metadata": {},
     "output_type": "display_data"
    }
   ],
   "source": [
    "from IPython.core.display import display,HTML\n",
    "display(HTML(\"<style>.container { width:100% !important; }</style>\"))"
   ]
  },
  {
   "cell_type": "markdown",
   "id": "899c1783",
   "metadata": {},
   "source": [
    "# END JUPYTER NOTEBOOK"
   ]
  }
 ],
 "metadata": {
  "kernelspec": {
   "display_name": "Python 3 (ipykernel)",
   "language": "python",
   "name": "python3"
  },
  "language_info": {
   "codemirror_mode": {
    "name": "ipython",
    "version": 3
   },
   "file_extension": ".py",
   "mimetype": "text/x-python",
   "name": "python",
   "nbconvert_exporter": "python",
   "pygments_lexer": "ipython3",
   "version": "3.9.12"
  }
 },
 "nbformat": 4,
 "nbformat_minor": 5
}
