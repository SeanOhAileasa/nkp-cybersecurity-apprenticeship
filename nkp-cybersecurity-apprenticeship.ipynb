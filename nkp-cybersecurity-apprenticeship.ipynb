{
 "cells": [
  {
   "cell_type": "markdown",
   "id": "d4ee9e4b",
   "metadata": {},
   "source": [
    "***\n",
    "< [Home](https://github.com/SeanOhAileasa) | [README](https://github.com/SeanOhAileasa/nkp-cybersecurity-apprenticeship/blob/main/README.md) >\n",
    "\n",
    "## Cybersecurity Apprenticeship (LMETB - AMTCE - Oiliuna)\n",
    "###### Topic: ``CompTIA Network+``\n",
    "***"
   ]
  },
  {
   "cell_type": "markdown",
   "id": "b82b07fb",
   "metadata": {},
   "source": [
    "Course material for the ``CompTIA Network+`` module of the ``ICT Associate Apprenticeship (Cybersecurity)`` programme."
   ]
  },
  {
   "cell_type": "markdown",
   "id": "e7228f57",
   "metadata": {},
   "source": [
    "<a id=\"top\"></a>\n",
    "***\n",
    "## Table of Contents\n",
    "***"
   ]
  },
  {
   "cell_type": "markdown",
   "id": "c0ad05fe",
   "metadata": {},
   "source": [
    "### Semester 1 Schedule 30th May 2022 [ [Schedule Update](#newSchedule) ]<br/><br/>"
   ]
  },
  {
   "cell_type": "code",
   "execution_count": 1,
   "id": "8ce10fbd",
   "metadata": {},
   "outputs": [
    {
     "data": {
      "text/html": [
       "\n",
       "        <iframe\n",
       "            width=\"1000\"\n",
       "            height=\"700\"\n",
       "            src=\"./rc/Semester-1-Schedule-30th-May-2022.pdf\"\n",
       "            frameborder=\"0\"\n",
       "            allowfullscreen\n",
       "            \n",
       "        ></iframe>\n",
       "        "
      ],
      "text/plain": [
       "<IPython.lib.display.IFrame at 0x196fe1206d0>"
      ]
     },
     "execution_count": 1,
     "metadata": {},
     "output_type": "execute_result"
    }
   ],
   "source": [
    "from IPython.display import IFrame, display\n",
    "IFrame(\"./rc/Semester-1-Schedule-30th-May-2022.pdf\",width=1000,height=700)"
   ]
  },
  {
   "cell_type": "markdown",
   "id": "730af0cd",
   "metadata": {},
   "source": [
    "<a id=\"newSchedule\"></a>\n",
    "### Semester 3 Schedule 11th July 2022\n",
    "###### [Holiday Leave (per training provider): Monday 11th July 2022 - Friday 15th July 2022]  <br/><br/>"
   ]
  },
  {
   "cell_type": "markdown",
   "id": "1f980928",
   "metadata": {},
   "source": [
    "Changes to original schedule:\n",
    "\n",
    "> The **Annual Leave** period (one week) will commence on 11th July (ending 15th July).\n",
    "\n",
    "> Semester 3 period re. \"**Network+**\" will commence on **18th July** (ending week of 30th October 2022). "
   ]
  },
  {
   "cell_type": "markdown",
   "id": "4f052411",
   "metadata": {},
   "source": [
    "<hr width=50%;>"
   ]
  },
  {
   "cell_type": "markdown",
   "id": "40ec1d36",
   "metadata": {},
   "source": [
    "### [Monday 18th July 2022](#20220718) <br/><br/>\n",
    "\n",
    "- [Introduction to Networking](#202207181) <br/><br/>\n",
    "- [OSI Model](#202207182) <br/><br/>\n",
    "- [Introduction to Networking](#202207183) <br/><br/>\n",
    "- [Infrastructure and Documentation](#202207184) <br/><br/>\n",
    "- [OSI and TCP-IP Models](#202207185) \n",
    "<hr width=50%;>"
   ]
  },
  {
   "cell_type": "markdown",
   "id": "0e30b85b",
   "metadata": {},
   "source": [
    "### [Tuesday 19th July 2022](#20220719) <br/><br/>\n",
    "\n",
    "- [Encapsulation](#202207191) <br/><br/>\n",
    "- [Network Topologies](#202207192) <br/><br/>\n",
    "- [Network Types](#202207193) <br/><br/>\n",
    "- [Infrastructure and Documentation](#202207194) <br/><br/>\n",
    "- [Virtualization](#202207195)\n",
    "<hr width=50%;>"
   ]
  },
  {
   "cell_type": "markdown",
   "id": "c233f275",
   "metadata": {},
   "source": [
    "### [Wednesday 20th July 2022](#20220720) <br/><br/>\n",
    "\n",
    "- [Introduce Addressing](#202207201) <br/><br/>\n",
    "- [Service Provider Links](#202207202) <br/><br/>\n",
    "- [Copper Cables and Connections](#202207203)\n",
    "<hr width=50%;>"
   ]
  },
  {
   "cell_type": "markdown",
   "id": "bf2b95e2",
   "metadata": {},
   "source": [
    "***\n",
    "## END"
   ]
  },
  {
   "cell_type": "markdown",
   "id": "2656d962",
   "metadata": {},
   "source": [
    "< [Table of Contents](#top) | [References](#references) >\n",
    "<a id=\"20220718\"></a>\n",
    "***\n",
    "### Monday 18th July 2022\n",
    "***"
   ]
  },
  {
   "cell_type": "markdown",
   "id": "5fb7a8a6",
   "metadata": {},
   "source": [
    "< [Table of Contents](#top) | [References](#references) >\n",
    "<a id=\"202207181\"></a>\n",
    "***\n",
    "###### Introduction to Networking\n",
    "###### [Network Models - Peer-to-Peer Network Model - Client-Server Network Model - Client-Server Applications - Network Services and Their Protocols - Network Hardware - LANs and Their Hardware]\n",
    "***"
   ]
  },
  {
   "cell_type": "code",
   "execution_count": 2,
   "id": "ba45fdab",
   "metadata": {},
   "outputs": [
    {
     "data": {
      "text/html": [
       "\n",
       "        <iframe\n",
       "            width=\"900\"\n",
       "            height=\"530\"\n",
       "            src=\"./rc/Netplus9e_PPT_Mod 01_4to20.pdf\"\n",
       "            frameborder=\"0\"\n",
       "            allowfullscreen\n",
       "            \n",
       "        ></iframe>\n",
       "        "
      ],
      "text/plain": [
       "<IPython.lib.display.IFrame at 0x196fe11a250>"
      ]
     },
     "execution_count": 2,
     "metadata": {},
     "output_type": "execute_result"
    }
   ],
   "source": [
    "from IPython.display import IFrame, display\n",
    "IFrame(\"./rc/Netplus9e_PPT_Mod 01_4to20.pdf\",width=900,height=530)"
   ]
  },
  {
   "cell_type": "markdown",
   "id": "59995b78",
   "metadata": {},
   "source": [
    "< [Table of Contents](#top) | [References](#references) >\n",
    "<a id=\"202207182\"></a>\n",
    "***\n",
    "###### OSI Model\n",
    "***"
   ]
  },
  {
   "cell_type": "markdown",
   "id": "2f6f8d84",
   "metadata": {},
   "source": [
    "> Identify the attributes and characteristics of the seven layer Open Systems Interconnection Model (OSI)."
   ]
  },
  {
   "cell_type": "markdown",
   "id": "0300ac91",
   "metadata": {},
   "source": [
    "[ [OSI Model](https://www.itpro.tv/courses/comptia/comptia-network-n10008/) ]"
   ]
  },
  {
   "cell_type": "markdown",
   "id": "80c839a3",
   "metadata": {},
   "source": [
    "< [Table of Contents](#top) | [References](#references) >\n",
    "<a id=\"202207183\"></a>\n",
    "***\n",
    "###### Introduction to Networking\n",
    "###### [MANs and WANs - The Seven-Layer OSI Model - Layer 7 to Layer 1 - PDU - Summary of How the Layers Work Together - Safety Procedures and Policies - Emergency Procedures - Troubleshooting Network Problems - Summary]\n",
    "***"
   ]
  },
  {
   "cell_type": "code",
   "execution_count": 3,
   "id": "ff572d9a",
   "metadata": {},
   "outputs": [
    {
     "data": {
      "text/html": [
       "\n",
       "        <iframe\n",
       "            width=\"900\"\n",
       "            height=\"530\"\n",
       "            src=\"./rc/Netplus9e_PPT_Mod 01_21to44.pdf\"\n",
       "            frameborder=\"0\"\n",
       "            allowfullscreen\n",
       "            \n",
       "        ></iframe>\n",
       "        "
      ],
      "text/plain": [
       "<IPython.lib.display.IFrame at 0x196fe10de50>"
      ]
     },
     "execution_count": 3,
     "metadata": {},
     "output_type": "execute_result"
    }
   ],
   "source": [
    "from IPython.display import IFrame, display\n",
    "IFrame(\"./rc/Netplus9e_PPT_Mod 01_21to44.pdf\",width=900,height=530)"
   ]
  },
  {
   "cell_type": "markdown",
   "id": "1526cf7b",
   "metadata": {},
   "source": [
    "< [Table of Contents](#top) | [References](#references) >\n",
    "<a id=\"202207184\"></a>\n",
    "***\n",
    "###### Infrastructure and Documentation\n",
    "###### [Components of Structured Cabling - From the Demarc to a Workstation (11 of 11) - Cabling (5 of 5)]\n",
    "***"
   ]
  },
  {
   "cell_type": "code",
   "execution_count": 4,
   "id": "aaaff6e5",
   "metadata": {},
   "outputs": [
    {
     "data": {
      "text/html": [
       "\n",
       "        <iframe\n",
       "            width=\"900\"\n",
       "            height=\"530\"\n",
       "            src=\"./rc/Netplus9e_PPT_Mod 02_3to19.pdf\"\n",
       "            frameborder=\"0\"\n",
       "            allowfullscreen\n",
       "            \n",
       "        ></iframe>\n",
       "        "
      ],
      "text/plain": [
       "<IPython.lib.display.IFrame at 0x196fe11a070>"
      ]
     },
     "execution_count": 4,
     "metadata": {},
     "output_type": "execute_result"
    }
   ],
   "source": [
    "from IPython.display import IFrame, display\n",
    "IFrame(\"./rc/Netplus9e_PPT_Mod 02_3to19.pdf\",width=900,height=530)"
   ]
  },
  {
   "cell_type": "markdown",
   "id": "f8390635",
   "metadata": {},
   "source": [
    "< [Table of Contents](#top) | [References](#references) >\n",
    "<a id=\"202207185\"></a>\n",
    "***\n",
    "###### OSI and TCP-IP Models\n",
    "***"
   ]
  },
  {
   "cell_type": "markdown",
   "id": "d198f9bd",
   "metadata": {},
   "source": [
    "> Identify the functionality and characteristic of TCP/IP model. The viewer will also compare and contrast the Open Systems Interconnection Model with the TCP/IP model."
   ]
  },
  {
   "cell_type": "markdown",
   "id": "5006cb07",
   "metadata": {},
   "source": [
    "[ [OSI and TCP-IP Models](https://www.itpro.tv/courses/comptia/comptia-network-n10008/) ]"
   ]
  },
  {
   "cell_type": "markdown",
   "id": "d625e4f5",
   "metadata": {},
   "source": [
    "< [Table of Contents](#top) | [References](#references) >\n",
    "<a id=\"20220719\"></a>\n",
    "***\n",
    "### Tuesday 19th July 2022\n",
    "***"
   ]
  },
  {
   "cell_type": "markdown",
   "id": "2971ffc0",
   "metadata": {},
   "source": [
    "< [Table of Contents](#top) | [References](#references) >\n",
    "<a id=\"202207191\"></a>\n",
    "***\n",
    "###### Encapsulation\n",
    "***"
   ]
  },
  {
   "cell_type": "markdown",
   "id": "442cbc48",
   "metadata": {},
   "source": [
    "> Identify the process of encapsulation and decapsulation - how this process relates to the Open Systems Interconnection Model (OSI) - also identify different headers that are generated during the encapsulation process such as Transmission Control Protocol (TCP), User Datagram Protocol (UDP) and the Internet Protocol (IP)."
   ]
  },
  {
   "cell_type": "markdown",
   "id": "d5d9bba1",
   "metadata": {},
   "source": [
    "[ [Encapsulation](https://www.itpro.tv/courses/comptia/comptia-network-n10008/) ]"
   ]
  },
  {
   "cell_type": "markdown",
   "id": "64eba68b",
   "metadata": {},
   "source": [
    "< [Table of Contents](#top) | [References](#references) >\n",
    "<a id=\"202207192\"></a>\n",
    "***\n",
    "###### Network Topologies\n",
    "***"
   ]
  },
  {
   "cell_type": "markdown",
   "id": "2be48997",
   "metadata": {},
   "source": [
    "> Identify various network topology implementations such as bus, ring, star, full mesh, partial mesh and hybrid topologies."
   ]
  },
  {
   "cell_type": "markdown",
   "id": "2fe13e38",
   "metadata": {},
   "source": [
    "[ [Network Topologies](https://www.itpro.tv/courses/comptia/comptia-network-n10008/) ]"
   ]
  },
  {
   "cell_type": "markdown",
   "id": "ecde00a9",
   "metadata": {},
   "source": [
    "< [Table of Contents](#top) | [References](#references) >\n",
    "<a id=\"202207193\"></a>\n",
    "***\n",
    "###### Network Types\n",
    "***"
   ]
  },
  {
   "cell_type": "markdown",
   "id": "4569f946",
   "metadata": {},
   "source": [
    "> Identify the modern networking types and the characteristics such as peer-to-peer, client/server, local area networks, wide area networks, metropolitan area networks, wireless local area networks, campus area networks, storage area networks and software-defined wide area networks."
   ]
  },
  {
   "cell_type": "markdown",
   "id": "0e05e763",
   "metadata": {},
   "source": [
    "[ [Network Types](https://www.itpro.tv/courses/comptia/comptia-network-n10008/) ]"
   ]
  },
  {
   "cell_type": "markdown",
   "id": "01ef656d",
   "metadata": {},
   "source": [
    "< [Table of Contents](#top) | [References](#references) >\n",
    "<a id=\"202207194\"></a>\n",
    "***\n",
    "###### Infrastructure and Documentation\n",
    "###### [Monitoring the Environment and Security - Network Documentation - Network Diagrams - Operating Procedures - Inventory Management - Labeling and Naming Conventions - Business Documents - Change Management - Software and Hardware Changes - Change Management Documentation]\n",
    "***"
   ]
  },
  {
   "cell_type": "code",
   "execution_count": 5,
   "id": "be8af751",
   "metadata": {},
   "outputs": [
    {
     "data": {
      "text/html": [
       "\n",
       "        <iframe\n",
       "            width=\"900\"\n",
       "            height=\"530\"\n",
       "            src=\"./rc/Netplus9e_PPT_Mod 02_20to42.pdf\"\n",
       "            frameborder=\"0\"\n",
       "            allowfullscreen\n",
       "            \n",
       "        ></iframe>\n",
       "        "
      ],
      "text/plain": [
       "<IPython.lib.display.IFrame at 0x196fe132c40>"
      ]
     },
     "execution_count": 5,
     "metadata": {},
     "output_type": "execute_result"
    }
   ],
   "source": [
    "from IPython.display import IFrame, display\n",
    "IFrame(\"./rc/Netplus9e_PPT_Mod 02_20to42.pdf\",width=900,height=530)"
   ]
  },
  {
   "cell_type": "markdown",
   "id": "d3866b8d",
   "metadata": {},
   "source": [
    "< [Table of Contents](#top) | [References](#references) >\n",
    "<a id=\"202207195\"></a>\n",
    "***\n",
    "###### Virtualization\n",
    "***"
   ]
  },
  {
   "cell_type": "markdown",
   "id": "8debb507",
   "metadata": {},
   "source": [
    "> Identify the common components of virtualization, including type 1 and type 2 hypervisors, host and guest machines as well as virtual computing resources."
   ]
  },
  {
   "cell_type": "markdown",
   "id": "c0fd9491",
   "metadata": {},
   "source": [
    "[ [Virtualization](https://www.itpro.tv/courses/comptia/comptia-network-n10008/) ]"
   ]
  },
  {
   "cell_type": "markdown",
   "id": "9293d665",
   "metadata": {},
   "source": [
    "< [Table of Contents](#top) | [References](#references) >\n",
    "<a id=\"20220720\"></a>\n",
    "***\n",
    "### Wednesday 20th July 2022\n",
    "***"
   ]
  },
  {
   "cell_type": "markdown",
   "id": "bb41a560",
   "metadata": {},
   "source": [
    "< [Table of Contents](#top) | [References](#references) >\n",
    "<a id=\"202207201\"></a>\n",
    "***\n",
    "###### Introduce Addressing\n",
    "***"
   ]
  },
  {
   "cell_type": "code",
   "execution_count": 6,
   "id": "b3243828",
   "metadata": {},
   "outputs": [
    {
     "data": {
      "text/html": [
       "\n",
       "        <iframe\n",
       "            width=\"900\"\n",
       "            height=\"530\"\n",
       "            src=\"./rc/Netplus9e_PPT_Mod 03_3to20.pdf\"\n",
       "            frameborder=\"0\"\n",
       "            allowfullscreen\n",
       "            \n",
       "        ></iframe>\n",
       "        "
      ],
      "text/plain": [
       "<IPython.lib.display.IFrame at 0x196fe132100>"
      ]
     },
     "execution_count": 6,
     "metadata": {},
     "output_type": "execute_result"
    }
   ],
   "source": [
    "from IPython.display import IFrame, display\n",
    "IFrame(\"./rc/Netplus9e_PPT_Mod 03_3to20.pdf\",width=900,height=530)"
   ]
  },
  {
   "cell_type": "markdown",
   "id": "ea1e75ef",
   "metadata": {},
   "source": [
    "< [Table of Contents](#top) | [References](#references) >\n",
    "<a id=\"202207202\"></a>\n",
    "***\n",
    "###### Service Provider Links\n",
    "***"
   ]
  },
  {
   "cell_type": "markdown",
   "id": "3d7f8f57",
   "metadata": {},
   "source": [
    "> Identify the types of links that service providers use to connect customers to the providers networks such as satellite, DSL, Lease line and Metro-optical."
   ]
  },
  {
   "cell_type": "markdown",
   "id": "70253fb7",
   "metadata": {},
   "source": [
    "[ [Service Provider Links](https://www.itpro.tv/courses/comptia/comptia-network-n10008/) ]"
   ]
  },
  {
   "cell_type": "markdown",
   "id": "5822025f",
   "metadata": {},
   "source": [
    "< [Table of Contents](#top) | [References](#references) >\n",
    "<a id=\"202207203\"></a>\n",
    "***\n",
    "###### Copper Cables and Connections\n",
    "***"
   ]
  },
  {
   "cell_type": "markdown",
   "id": "ca91674c",
   "metadata": {},
   "source": [
    "> Identify the attributes of copper cabling and standards - differentiate between unshielded and shielded twisted pair, TIA/EIA's category cabling standards and connectors."
   ]
  },
  {
   "cell_type": "markdown",
   "id": "8122a8d2",
   "metadata": {},
   "source": [
    "[ [Copper Cables and Connections](https://www.itpro.tv/courses/comptia/comptia-network-n10008/) ]"
   ]
  },
  {
   "cell_type": "markdown",
   "id": "2cc20932",
   "metadata": {},
   "source": [
    "***\n",
    "## END"
   ]
  },
  {
   "cell_type": "markdown",
   "id": "e0e42d51",
   "metadata": {},
   "source": [
    "< [Table of Contents](#top) >\n",
    "<a id=\"references\"></a>\n",
    "***\n",
    "## References\n",
    "***"
   ]
  },
  {
   "cell_type": "markdown",
   "id": "ff68247c",
   "metadata": {},
   "source": [
    "Oiliuna, \"Cybersecurity Apprenticeship - ICT Associate Professional (ICTAP),\" LMETB / AMTCE, 18th July - 30th October 2022."
   ]
  },
  {
   "cell_type": "markdown",
   "id": "b33c372a",
   "metadata": {},
   "source": [
    "***\n",
    "## END"
   ]
  },
  {
   "cell_type": "markdown",
   "id": "e5961b4d",
   "metadata": {},
   "source": [
    "< [Table of Contents](#top) | [References](#references) >\n",
    "<a id=\"appendix\"></a>\n",
    "***\n",
    "## Appendix\n",
    "***"
   ]
  },
  {
   "cell_type": "markdown",
   "id": "00d82a82",
   "metadata": {},
   "source": [
    "***\n",
    "## END"
   ]
  },
  {
   "cell_type": "code",
   "execution_count": 7,
   "id": "706756a2",
   "metadata": {},
   "outputs": [
    {
     "name": "stderr",
     "output_type": "stream",
     "text": [
      "C:\\Users\\SeanOhAileasa\\AppData\\Local\\Temp\\ipykernel_4888\\1322614208.py:1: DeprecationWarning: Importing display from IPython.core.display is deprecated since IPython 7.14, please import from IPython display\n",
      "  from IPython.core.display import display,HTML\n"
     ]
    },
    {
     "data": {
      "text/html": [
       "<style>.container { width:100% !important; }</style>"
      ],
      "text/plain": [
       "<IPython.core.display.HTML object>"
      ]
     },
     "metadata": {},
     "output_type": "display_data"
    }
   ],
   "source": [
    "from IPython.core.display import display,HTML\n",
    "display(HTML(\"<style>.container { width:100% !important; }</style>\"))"
   ]
  },
  {
   "cell_type": "markdown",
   "id": "899c1783",
   "metadata": {},
   "source": [
    "# END JUPYTER NOTEBOOK"
   ]
  }
 ],
 "metadata": {
  "kernelspec": {
   "display_name": "Python 3 (ipykernel)",
   "language": "python",
   "name": "python3"
  },
  "language_info": {
   "codemirror_mode": {
    "name": "ipython",
    "version": 3
   },
   "file_extension": ".py",
   "mimetype": "text/x-python",
   "name": "python",
   "nbconvert_exporter": "python",
   "pygments_lexer": "ipython3",
   "version": "3.9.12"
  }
 },
 "nbformat": 4,
 "nbformat_minor": 5
}
